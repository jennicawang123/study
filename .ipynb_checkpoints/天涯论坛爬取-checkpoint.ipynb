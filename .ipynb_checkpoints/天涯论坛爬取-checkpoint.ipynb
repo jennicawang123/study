{
 "cells": [
  {
   "cell_type": "code",
   "execution_count": 6,
   "metadata": {},
   "outputs": [],
   "source": [
    "import requests\n",
    "from bs4 import BeautifulSoup"
   ]
  },
  {
   "cell_type": "code",
   "execution_count": 7,
   "metadata": {},
   "outputs": [
    {
     "name": "stderr",
     "output_type": "stream",
     "text": [
      "C:\\Users\\zjhch\\Anaconda3\\lib\\site-packages\\IPython\\core\\display.py:694: UserWarning: Consider using IPython.display.IFrame instead\n",
      "  warnings.warn(\"Consider using IPython.display.IFrame instead\")\n"
     ]
    },
    {
     "data": {
      "text/html": [
       "<iframe src= http://bbs.tianya.cn/list.jsp?item=free&nextid=%d&order=8&k=PX width=1000 height=500></iframe>"
      ],
      "text/plain": [
       "<IPython.core.display.HTML object>"
      ]
     },
     "execution_count": 7,
     "metadata": {},
     "output_type": "execute_result"
    }
   ],
   "source": [
    "from IPython.display import display_html,HTML\n",
    "HTML('<iframe src= http://bbs.tianya.cn/list.jsp?item=free&nextid=%d&order=8&k=PX width=1000 height=500></iframe>')"
   ]
  },
  {
   "cell_type": "code",
   "execution_count": 8,
   "metadata": {},
   "outputs": [],
   "source": [
    "page_num = 0\n",
    "url = \"http://bbs.tianya.cn/list.jsp?item=free&nextid=%d&order=8&k=PX\"% page_num\n",
    "content = requests.get(url).text \n",
    "soup = BeautifulSoup(content, \"lxml\") \n",
    "articles = soup.find_all('tr')"
   ]
  },
  {
   "cell_type": "code",
   "execution_count": 9,
   "metadata": {},
   "outputs": [
    {
     "data": {
      "text/plain": [
       "<tr class=\"bg\">\n",
       "<td class=\"td-title\">\n",
       "<span class=\"face\" title=\"\">\n",
       "</span>\n",
       "<a href=\"/post-free-5043260-1.shtml\" target=\"_blank\">\n",
       "\t\t\t\t\t\t\t【吴钩一言堂】漳州PX成“二踢响”,说明老百姓科学素质不低<span class=\"art-ico art-ico-3\" title=\"内有0张图片\"></span>\n",
       "</a>\n",
       "</td>\n",
       "<td><a class=\"author\" href=\"http://www.tianya.cn/36959960\" target=\"_blank\">挑灯看吴钩</a></td>\n",
       "<td>45894</td>\n",
       "<td>219</td>\n",
       "<td title=\"2015-04-07 21:30\">04-07 21:30</td>\n",
       "</tr>"
      ]
     },
     "execution_count": 9,
     "metadata": {},
     "output_type": "execute_result"
    }
   ],
   "source": [
    "articles[1]"
   ]
  },
  {
   "cell_type": "code",
   "execution_count": 10,
   "metadata": {},
   "outputs": [
    {
     "data": {
      "text/plain": [
       "80"
      ]
     },
     "execution_count": 10,
     "metadata": {},
     "output_type": "execute_result"
    }
   ],
   "source": [
    "len(articles[1:])"
   ]
  },
  {
   "cell_type": "code",
   "execution_count": 11,
   "metadata": {},
   "outputs": [
    {
     "name": "stdout",
     "output_type": "stream",
     "text": [
      "<td class=\"td-title\">\n",
      "<span class=\"face\" title=\"\">\n",
      "</span>\n",
      "<a href=\"/post-free-5043260-1.shtml\" target=\"_blank\">\r\n",
      "\t\t\t\t\t\t\t【吴钩一言堂】漳州PX成“二踢响”,说明老百姓科学素质不低<span class=\"art-ico art-ico-3\" title=\"内有0张图片\"></span>\n",
      "</a>\n",
      "</td>\n",
      "<td><a class=\"author\" href=\"http://www.tianya.cn/36959960\" target=\"_blank\">挑灯看吴钩</a></td>\n",
      "<td>45894</td>\n",
      "<td>219</td>\n",
      "<td title=\"2015-04-07 21:30\">04-07 21:30</td>\n"
     ]
    }
   ],
   "source": [
    "for t in articles[1].find_all('td'):\n",
    "    print(t)"
   ]
  },
  {
   "cell_type": "code",
   "execution_count": 12,
   "metadata": {},
   "outputs": [],
   "source": [
    "td=articles[1].find_all('td')"
   ]
  },
  {
   "cell_type": "code",
   "execution_count": 13,
   "metadata": {},
   "outputs": [
    {
     "data": {
      "text/plain": [
       "[<td class=\"td-title\">\n",
       " <span class=\"face\" title=\"\">\n",
       " </span>\n",
       " <a href=\"/post-free-5043260-1.shtml\" target=\"_blank\">\n",
       " \t\t\t\t\t\t\t【吴钩一言堂】漳州PX成“二踢响”,说明老百姓科学素质不低<span class=\"art-ico art-ico-3\" title=\"内有0张图片\"></span>\n",
       " </a>\n",
       " </td>,\n",
       " <td><a class=\"author\" href=\"http://www.tianya.cn/36959960\" target=\"_blank\">挑灯看吴钩</a></td>,\n",
       " <td>45894</td>,\n",
       " <td>219</td>,\n",
       " <td title=\"2015-04-07 21:30\">04-07 21:30</td>]"
      ]
     },
     "execution_count": 13,
     "metadata": {},
     "output_type": "execute_result"
    }
   ],
   "source": [
    "td"
   ]
  },
  {
   "cell_type": "code",
   "execution_count": 14,
   "metadata": {},
   "outputs": [
    {
     "data": {
      "text/plain": [
       "<td class=\"td-title\">\n",
       "<span class=\"face\" title=\"\">\n",
       "</span>\n",
       "<a href=\"/post-free-5043260-1.shtml\" target=\"_blank\">\n",
       "\t\t\t\t\t\t\t【吴钩一言堂】漳州PX成“二踢响”,说明老百姓科学素质不低<span class=\"art-ico art-ico-3\" title=\"内有0张图片\"></span>\n",
       "</a>\n",
       "</td>"
      ]
     },
     "execution_count": 14,
     "metadata": {},
     "output_type": "execute_result"
    }
   ],
   "source": [
    "td[0]"
   ]
  },
  {
   "cell_type": "code",
   "execution_count": 15,
   "metadata": {},
   "outputs": [
    {
     "data": {
      "text/plain": [
       "'\\n\\n\\n\\r\\n\\t\\t\\t\\t\\t\\t\\t【吴钩一言堂】漳州PX成“二踢响”,说明老百姓科学素质不低\\n\\n'"
      ]
     },
     "execution_count": 15,
     "metadata": {},
     "output_type": "execute_result"
    }
   ],
   "source": [
    "td[0].text"
   ]
  },
  {
   "cell_type": "code",
   "execution_count": 18,
   "metadata": {},
   "outputs": [
    {
     "data": {
      "text/plain": [
       "'【吴钩一言堂】漳州PX成“二踢响”,说明老百姓科学素质不低'"
      ]
     },
     "execution_count": 18,
     "metadata": {},
     "output_type": "execute_result"
    }
   ],
   "source": [
    "td[0].text.strip()"
   ]
  },
  {
   "cell_type": "code",
   "execution_count": 19,
   "metadata": {},
   "outputs": [
    {
     "data": {
      "text/plain": [
       "'/post-free-5043260-1.shtml'"
      ]
     },
     "execution_count": 19,
     "metadata": {},
     "output_type": "execute_result"
    }
   ],
   "source": [
    "td[0].a['href']"
   ]
  },
  {
   "cell_type": "code",
   "execution_count": 20,
   "metadata": {},
   "outputs": [
    {
     "data": {
      "text/plain": [
       "<td><a class=\"author\" href=\"http://www.tianya.cn/36959960\" target=\"_blank\">挑灯看吴钩</a></td>"
      ]
     },
     "execution_count": 20,
     "metadata": {},
     "output_type": "execute_result"
    }
   ],
   "source": [
    "td[1]"
   ]
  },
  {
   "cell_type": "code",
   "execution_count": 21,
   "metadata": {},
   "outputs": [
    {
     "data": {
      "text/plain": [
       "'http://www.tianya.cn/36959960'"
      ]
     },
     "execution_count": 21,
     "metadata": {},
     "output_type": "execute_result"
    }
   ],
   "source": [
    "td[1].find('a',{'class',\"author\"})['href']"
   ]
  },
  {
   "cell_type": "code",
   "execution_count": 22,
   "metadata": {},
   "outputs": [
    {
     "data": {
      "text/plain": [
       "<td>45894</td>"
      ]
     },
     "execution_count": 22,
     "metadata": {},
     "output_type": "execute_result"
    }
   ],
   "source": [
    "td[2]"
   ]
  },
  {
   "cell_type": "code",
   "execution_count": 24,
   "metadata": {},
   "outputs": [
    {
     "data": {
      "text/plain": [
       "<td>219</td>"
      ]
     },
     "execution_count": 24,
     "metadata": {},
     "output_type": "execute_result"
    }
   ],
   "source": [
    "td[3]"
   ]
  },
  {
   "cell_type": "code",
   "execution_count": 25,
   "metadata": {},
   "outputs": [
    {
     "data": {
      "text/plain": [
       "<td title=\"2015-04-07 21:30\">04-07 21:30</td>"
      ]
     },
     "execution_count": 25,
     "metadata": {},
     "output_type": "execute_result"
    }
   ],
   "source": [
    "td[4]"
   ]
  },
  {
   "cell_type": "code",
   "execution_count": null,
   "metadata": {},
   "outputs": [],
   "source": []
  }
 ],
 "metadata": {
  "kernelspec": {
   "display_name": "Python [conda env:root] *",
   "language": "python",
   "name": "conda-root-py"
  },
  "language_info": {
   "codemirror_mode": {
    "name": "ipython",
    "version": 3
   },
   "file_extension": ".py",
   "mimetype": "text/x-python",
   "name": "python",
   "nbconvert_exporter": "python",
   "pygments_lexer": "ipython3",
   "version": "3.7.3"
  }
 },
 "nbformat": 4,
 "nbformat_minor": 2
}
